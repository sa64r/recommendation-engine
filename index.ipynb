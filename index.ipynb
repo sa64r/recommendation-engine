{
 "cells": [
  {
   "cell_type": "code",
   "execution_count": 9,
   "metadata": {},
   "outputs": [],
   "source": [
    "import numpy as np\n",
    "import pandas as pd\n",
    "import matplotlib as mtpplib\n",
    "from os import listdir\n",
    "from os.path import isfile, join\n",
    "PATH = './archive/'"
   ]
  },
  {
   "cell_type": "code",
   "execution_count": 12,
   "metadata": {},
   "outputs": [
    {
     "name": "stdout",
     "output_type": "stream",
     "text": [
      "          userId  movieId  rating   timestamp\n",
      "0              1      110     1.0  1425941529\n",
      "1              1      147     4.5  1425942435\n",
      "2              1      858     5.0  1425941523\n",
      "3              1     1221     5.0  1425941546\n",
      "4              1     1246     5.0  1425941556\n",
      "...          ...      ...     ...         ...\n",
      "26024284  270896    58559     5.0  1257031564\n",
      "26024285  270896    60069     5.0  1257032032\n",
      "26024286  270896    63082     4.5  1257031764\n",
      "26024287  270896    64957     4.5  1257033990\n",
      "26024288  270896    71878     2.0  1257031858\n",
      "\n",
      "[26024289 rows x 4 columns]\n"
     ]
    }
   ],
   "source": [
    "ratings = pd.read_csv(PATH+'ratings.csv')\n",
    "print(ratings)"
   ]
  },
  {
   "cell_type": "code",
   "execution_count": 16,
   "metadata": {},
   "outputs": [
    {
     "name": "stdout",
     "output_type": "stream",
     "text": [
      "0                1\n",
      "1                1\n",
      "2                1\n",
      "3                1\n",
      "4                1\n",
      "             ...  \n",
      "26024284    270896\n",
      "26024285    270896\n",
      "26024286    270896\n",
      "26024287    270896\n",
      "26024288    270896\n",
      "Name: userId, Length: 26024289, dtype: int64\n"
     ]
    }
   ],
   "source": [
    "ratings_userIds = ratings.loc[:,'userId']\n",
    "print(ratings_userIds)"
   ]
  },
  {
   "cell_type": "code",
   "execution_count": 15,
   "metadata": {},
   "outputs": [
    {
     "name": "stdout",
     "output_type": "stream",
     "text": [
      "0             110\n",
      "1             147\n",
      "2             858\n",
      "3            1221\n",
      "4            1246\n",
      "            ...  \n",
      "26024284    58559\n",
      "26024285    60069\n",
      "26024286    63082\n",
      "26024287    64957\n",
      "26024288    71878\n",
      "Name: movieId, Length: 26024289, dtype: int64\n"
     ]
    }
   ],
   "source": [
    "ratings_movieIds = ratings.loc[:,'movieId']\n",
    "print(ratings_movieIds)"
   ]
  }
 ],
 "metadata": {
  "kernelspec": {
   "display_name": "Python 3.10.7 64-bit ('3.10.7')",
   "language": "python",
   "name": "python3"
  },
  "language_info": {
   "codemirror_mode": {
    "name": "ipython",
    "version": 3
   },
   "file_extension": ".py",
   "mimetype": "text/x-python",
   "name": "python",
   "nbconvert_exporter": "python",
   "pygments_lexer": "ipython3",
   "version": "3.10.7"
  },
  "orig_nbformat": 4,
  "vscode": {
   "interpreter": {
    "hash": "83ac9d87613a1e0df277425e801b579f758957f26e10119bcbea40c902590fc9"
   }
  }
 },
 "nbformat": 4,
 "nbformat_minor": 2
}
